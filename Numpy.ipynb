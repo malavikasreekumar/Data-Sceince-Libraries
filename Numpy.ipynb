{
 "cells": [
  {
   "cell_type": "markdown",
   "id": "3c5040ca",
   "metadata": {},
   "source": [
    "### Importing Numpy"
   ]
  },
  {
   "cell_type": "code",
   "execution_count": 2,
   "id": "e2d876bd",
   "metadata": {},
   "outputs": [
    {
     "name": "stdout",
     "output_type": "stream",
     "text": [
      "Requirement already satisfied: numpy in c:\\users\\coder\\anaconda3\\lib\\site-packages (1.21.5)\n",
      "Note: you may need to restart the kernel to use updated packages.\n"
     ]
    }
   ],
   "source": [
    "pip install numpy"
   ]
  },
  {
   "cell_type": "code",
   "execution_count": 3,
   "id": "361fffb7",
   "metadata": {},
   "outputs": [],
   "source": [
    "import numpy as np"
   ]
  },
  {
   "cell_type": "markdown",
   "id": "17fd67c1",
   "metadata": {},
   "source": [
    "### Array in Numpy"
   ]
  },
  {
   "cell_type": "markdown",
   "id": "93abf116",
   "metadata": {},
   "source": [
    "* NumPy gives you an enormous range of fast and efficient ways of creating arrays and manipulating numerical data inside them. While a Python list can contain different data types within a single list, all of the elements in a NumPy array should be homogeneous. The mathematical operations that are meant to be performed on arrays would be extremely inefficient if the arrays weren’t homogeneous.\n",
    "* Why use NumPy?\n",
    "\n",
    "* NumPy arrays are faster and more compact than Python lists. An array consumes less memory and is convenient to use. NumPy uses much less memory to store data and it provides a mechanism of specifying the data types. This allows the code to be optimized even further."
   ]
  },
  {
   "cell_type": "markdown",
   "id": "ca8e0896",
   "metadata": {},
   "source": [
    "### Creating an array"
   ]
  },
  {
   "cell_type": "code",
   "execution_count": 4,
   "id": "677eda77",
   "metadata": {},
   "outputs": [
    {
     "name": "stdout",
     "output_type": "stream",
     "text": [
      "[4 5 6]\n"
     ]
    }
   ],
   "source": [
    "a=np.array([[1,2,3],[4,5,6],[7,8,9]])\n",
    "print(a[1])"
   ]
  },
  {
   "cell_type": "markdown",
   "id": "ed1845bf",
   "metadata": {},
   "source": [
    "### Creating array of zeros and ones"
   ]
  },
  {
   "cell_type": "code",
   "execution_count": 5,
   "id": "cbe3113c",
   "metadata": {},
   "outputs": [
    {
     "name": "stdout",
     "output_type": "stream",
     "text": [
      "Array of 0's [0. 0.]\n",
      "Array of 0's [1. 1.]\n"
     ]
    }
   ],
   "source": [
    "b=np.zeros(2)\n",
    "print(\"Array of 0's\",b)\n",
    " \n",
    "c=np.ones(2)\n",
    "print(\"Array of 0's\",c)"
   ]
  },
  {
   "cell_type": "markdown",
   "id": "06b227d1",
   "metadata": {},
   "source": [
    "### Creating empty array-numbers are random"
   ]
  },
  {
   "cell_type": "code",
   "execution_count": 6,
   "id": "8c038596",
   "metadata": {},
   "outputs": [
    {
     "name": "stdout",
     "output_type": "stream",
     "text": [
      "Random numbers: [1.40392898e-311 6.01346953e-154 4.72159844e+257 1.12320239e+219]\n"
     ]
    }
   ],
   "source": [
    "d=np.empty(4)\n",
    "print(\"Random numbers:\",d)"
   ]
  },
  {
   "cell_type": "markdown",
   "id": "ece4f646",
   "metadata": {},
   "source": [
    "### Array with a range of elementss\n",
    "And even an array that contains a range of evenly spaced intervals. To do this, you will specify the first number, last number, and the step size"
   ]
  },
  {
   "cell_type": "code",
   "execution_count": 7,
   "id": "96ee946c",
   "metadata": {},
   "outputs": [
    {
     "name": "stdout",
     "output_type": "stream",
     "text": [
      "[0 1 2 3]\n",
      "[ 1  4  7 10]\n"
     ]
    }
   ],
   "source": [
    "e=np.array(range(4))\n",
    "print(e)\n",
    "\n",
    "\n",
    "f=np.array(range(1,12,3))\n",
    "print(f)"
   ]
  },
  {
   "cell_type": "markdown",
   "id": "b350d068",
   "metadata": {},
   "source": [
    " ### Specifying data type\n",
    "While the default data type is floating point (np.float64),you can explicitly specify which data type you want using the dtype keyword."
   ]
  },
  {
   "cell_type": "code",
   "execution_count": 8,
   "id": "01475cf9",
   "metadata": {},
   "outputs": [
    {
     "name": "stdout",
     "output_type": "stream",
     "text": [
      "[1 1]\n"
     ]
    }
   ],
   "source": [
    "g=np.ones(2,dtype=np.int64)\n",
    "print(g)"
   ]
  },
  {
   "cell_type": "markdown",
   "id": "c886fd9a",
   "metadata": {},
   "source": [
    "### Sorting, contatination of arrays"
   ]
  },
  {
   "cell_type": "code",
   "execution_count": 9,
   "id": "46d5a31e",
   "metadata": {},
   "outputs": [
    {
     "data": {
      "text/plain": [
       "array([ 2,  4,  5,  7,  9, 10, 12])"
      ]
     },
     "execution_count": 9,
     "metadata": {},
     "output_type": "execute_result"
    }
   ],
   "source": [
    "h=np.array([2,7,4,5,12,9,10])\n",
    "np.sort(h)"
   ]
  },
  {
   "cell_type": "code",
   "execution_count": 10,
   "id": "c6cfa523",
   "metadata": {},
   "outputs": [
    {
     "data": {
      "text/plain": [
       "array([1, 2, 3, 4, 5, 6, 7, 8])"
      ]
     },
     "execution_count": 10,
     "metadata": {},
     "output_type": "execute_result"
    }
   ],
   "source": [
    "i = np.array([1, 2, 3, 4])\n",
    "j = np.array([5, 6, 7, 8])\n",
    "np.concatenate((i,j))"
   ]
  },
  {
   "cell_type": "code",
   "execution_count": 11,
   "id": "599ffa0b",
   "metadata": {},
   "outputs": [
    {
     "name": "stdout",
     "output_type": "stream",
     "text": [
      "[[1 2]\n",
      " [3 4]\n",
      " [5 6]]\n"
     ]
    }
   ],
   "source": [
    "a1=np.array([[1,2],[3,4]])\n",
    "a2=np.array([[5,6]])\n",
    "a3=np.concatenate((a1,a2), axis=0)\n",
    "print(a3)"
   ]
  },
  {
   "cell_type": "markdown",
   "id": "c9016695",
   "metadata": {},
   "source": [
    "### Dimensions of the array"
   ]
  },
  {
   "cell_type": "code",
   "execution_count": 12,
   "id": "d7af4c6b",
   "metadata": {},
   "outputs": [
    {
     "data": {
      "text/plain": [
       "2"
      ]
     },
     "execution_count": 12,
     "metadata": {},
     "output_type": "execute_result"
    }
   ],
   "source": [
    "a3.ndim"
   ]
  },
  {
   "cell_type": "markdown",
   "id": "3b42ec18",
   "metadata": {},
   "source": [
    "### Shape of the array"
   ]
  },
  {
   "cell_type": "code",
   "execution_count": 13,
   "id": "c7df834b",
   "metadata": {},
   "outputs": [
    {
     "data": {
      "text/plain": [
       "(2, 5)"
      ]
     },
     "execution_count": 13,
     "metadata": {},
     "output_type": "execute_result"
    }
   ],
   "source": [
    "a4=np.array([[1,2,3,4,5],[6,7,8,9,10]])\n",
    "a4.shape"
   ]
  },
  {
   "cell_type": "markdown",
   "id": "b35a3a51",
   "metadata": {},
   "source": [
    "### Total number of elements in the array"
   ]
  },
  {
   "cell_type": "code",
   "execution_count": 14,
   "id": "d80a9851",
   "metadata": {},
   "outputs": [
    {
     "data": {
      "text/plain": [
       "6"
      ]
     },
     "execution_count": 14,
     "metadata": {},
     "output_type": "execute_result"
    }
   ],
   "source": [
    "a3.size"
   ]
  },
  {
   "cell_type": "markdown",
   "id": "fb6fab58",
   "metadata": {},
   "source": [
    "### Reshaping the array"
   ]
  },
  {
   "cell_type": "code",
   "execution_count": 15,
   "id": "8ff87bf2",
   "metadata": {},
   "outputs": [
    {
     "data": {
      "text/plain": [
       "array([0, 1, 2, 3, 4, 5, 6, 7])"
      ]
     },
     "execution_count": 15,
     "metadata": {},
     "output_type": "execute_result"
    }
   ],
   "source": [
    "a4=np.arange(8)\n",
    "a4"
   ]
  },
  {
   "cell_type": "code",
   "execution_count": 16,
   "id": "73995ec8",
   "metadata": {},
   "outputs": [
    {
     "name": "stdout",
     "output_type": "stream",
     "text": [
      "[[0 1 2 3]\n",
      " [4 5 6 7]]\n"
     ]
    }
   ],
   "source": [
    "a5=a4.reshape(2,4)\n",
    "print(a5)"
   ]
  },
  {
   "cell_type": "markdown",
   "id": "7676f7e5",
   "metadata": {},
   "source": [
    "### Indexing and Slicing\n",
    "\n",
    "We pass slice instead of index like this: [start:end].\n",
    "\n",
    "We can also define the step, like this: [start:end:step]"
   ]
  },
  {
   "cell_type": "code",
   "execution_count": 17,
   "id": "9d3a5246",
   "metadata": {},
   "outputs": [
    {
     "name": "stdout",
     "output_type": "stream",
     "text": [
      "Extracts the specified index 2\n",
      "Starting from index 0 till 2-1: [1 2]\n",
      "Starting from index 1 till the very end of array: [2 3 4 5 6 7]\n"
     ]
    }
   ],
   "source": [
    "data=np.array([1,2,3,4,5,6,7])\n",
    "print(\"Extracts the specified index\",data[1])\n",
    "print(\"Starting from index 0 till 2-1:\",data[0:2])\n",
    "print(\"Starting from index 1 till the very end of array:\",data[1:])"
   ]
  },
  {
   "cell_type": "code",
   "execution_count": 18,
   "id": "d4d43d23",
   "metadata": {},
   "outputs": [
    {
     "name": "stdout",
     "output_type": "stream",
     "text": [
      "[5 6 7]\n",
      "[1 2 3 4]\n"
     ]
    }
   ],
   "source": [
    "print(data[4:])\n",
    "print(data[:4])"
   ]
  },
  {
   "cell_type": "markdown",
   "id": "6948ba82",
   "metadata": {},
   "source": [
    "* Slice from the index 3 from the end to index 1 from the end:"
   ]
  },
  {
   "cell_type": "code",
   "execution_count": 19,
   "id": "857e8848",
   "metadata": {},
   "outputs": [
    {
     "name": "stdout",
     "output_type": "stream",
     "text": [
      "[5 6]\n"
     ]
    }
   ],
   "source": [
    "print(data[-3:-1])"
   ]
  },
  {
   "cell_type": "markdown",
   "id": "cf91ce76",
   "metadata": {},
   "source": [
    "From the second element, slice elements from index 1 to index 4 (not included)"
   ]
  },
  {
   "cell_type": "code",
   "execution_count": 20,
   "id": "ca5acb73",
   "metadata": {},
   "outputs": [
    {
     "name": "stdout",
     "output_type": "stream",
     "text": [
      "[7 8 9]\n"
     ]
    }
   ],
   "source": [
    "arr = np.array([[1, 2, 3, 4, 5], [6, 7, 8, 9, 10]])\n",
    "print(arr[1,1:4])"
   ]
  },
  {
   "cell_type": "code",
   "execution_count": 21,
   "id": "f79b5374",
   "metadata": {},
   "outputs": [
    {
     "name": "stdout",
     "output_type": "stream",
     "text": [
      "[50 60 70 80]\n",
      "[300 400 500]\n",
      "[[200 300 400 500]\n",
      " [ 70  80  90 100]]\n",
      "[[ 20  30 200]\n",
      " [ 50  60  70]]\n",
      "[400  90]\n"
     ]
    }
   ],
   "source": [
    "arr1=np.array([[10,20,30,200,300,400,500],[40,50,60,70,80,90,100]])\n",
    "print(arr1[1,1:5])\n",
    "print(arr1[0,4:])\n",
    "print(arr1[0:2,3:])\n",
    "print(arr1[0:,1:4])\n",
    "print(arr1[0:,-2])"
   ]
  },
  {
   "cell_type": "markdown",
   "id": "a7c19c73",
   "metadata": {},
   "source": [
    "### Axis\n",
    "* Axis=0 Cloumn\n",
    "* Axis=1 Row"
   ]
  },
  {
   "cell_type": "code",
   "execution_count": 22,
   "id": "ded19fdc",
   "metadata": {},
   "outputs": [
    {
     "name": "stdout",
     "output_type": "stream",
     "text": [
      "[[1 3 2 4]\n",
      " [8 6 5 9]\n",
      " [6 4 5 2]]\n",
      "[[1 3 2 2]\n",
      " [6 4 5 4]\n",
      " [8 6 5 9]]\n"
     ]
    }
   ],
   "source": [
    "arr2=np.array([[1,3,2,4],[8,6,5,9],[6,4,5,2]])\n",
    "print(arr2)\n",
    "m=np.sort(arr2,axis=0)\n",
    "print(m)"
   ]
  },
  {
   "cell_type": "markdown",
   "id": "58950696",
   "metadata": {},
   "source": [
    "### Arithematic Operator"
   ]
  },
  {
   "cell_type": "code",
   "execution_count": 23,
   "id": "ef4e5c93",
   "metadata": {},
   "outputs": [
    {
     "name": "stdout",
     "output_type": "stream",
     "text": [
      "[[1 2]\n",
      " [4 5]]\n",
      "[[3 5]\n",
      " [3 6]]\n",
      "Sum of Array: [[ 4  7]\n",
      " [ 7 11]]\n",
      "Product of Array: [[ 3 10]\n",
      " [12 30]]\n",
      "Product of Array: [[ 9 17]\n",
      " [27 50]]\n"
     ]
    }
   ],
   "source": [
    "a=np.array([[1,2],[4,5]])\n",
    "b=np.array([[3,5],[3,6]])\n",
    "print(a)\n",
    "print(b)\n",
    "print(\"Sum of Array:\",a+b)\n",
    "print(\"Product of Array:\",a*b)\n",
    "print(\"Product of Array:\", a.dot(b))"
   ]
  },
  {
   "cell_type": "markdown",
   "id": "f3c601d4",
   "metadata": {},
   "source": [
    "## Linear Algebra"
   ]
  },
  {
   "cell_type": "markdown",
   "id": "8c2f58d4",
   "metadata": {},
   "source": [
    "### Transpose of Matrix"
   ]
  },
  {
   "cell_type": "code",
   "execution_count": 24,
   "id": "3409db3d",
   "metadata": {},
   "outputs": [
    {
     "name": "stdout",
     "output_type": "stream",
     "text": [
      "[[1 2 5]\n",
      " [3 4 6]]\n",
      "Transpose of matrix: [[1 3]\n",
      " [2 4]\n",
      " [5 6]]\n"
     ]
    }
   ],
   "source": [
    "mat=np.array([[1,2,5],[3,4,6]])\n",
    "print(mat)\n",
    "print(\"Transpose of matrix:\",np.transpose(mat))"
   ]
  },
  {
   "cell_type": "markdown",
   "id": "037151b2",
   "metadata": {},
   "source": [
    "### Determinant of a Matrix"
   ]
  },
  {
   "cell_type": "code",
   "execution_count": 25,
   "id": "2b0f8fa1",
   "metadata": {},
   "outputs": [
    {
     "name": "stdout",
     "output_type": "stream",
     "text": [
      "[[ 1  3  1]\n",
      " [ 2  7 11]\n",
      " [ 3  5  2]]\n",
      "Determinant of this matrix\n",
      "35.00000000000001\n"
     ]
    }
   ],
   "source": [
    "mat1=np.array(([1,3,1],[2,7,11],[3,5,2]))\n",
    "print(mat1)\n",
    "print(\"Determinant of this matrix\")\n",
    "print(np.linalg.det(mat1))"
   ]
  },
  {
   "cell_type": "markdown",
   "id": "2b48bbd0",
   "metadata": {},
   "source": [
    "### Inverse of a Matrix"
   ]
  },
  {
   "cell_type": "code",
   "execution_count": 26,
   "id": "0af8fd4e",
   "metadata": {},
   "outputs": [
    {
     "name": "stdout",
     "output_type": "stream",
     "text": [
      "[[1 2]\n",
      " [3 4]]\n",
      "Inverse of matrix:\n",
      "[[-2.   1. ]\n",
      " [ 1.5 -0.5]]\n"
     ]
    }
   ],
   "source": [
    "m = np.array([[1,2],[3,4]])\n",
    "print(m)\n",
    "print(\"Inverse of matrix:\")\n",
    "print(np.linalg.inv(m))"
   ]
  },
  {
   "cell_type": "markdown",
   "id": "83fa1def",
   "metadata": {},
   "source": [
    "### Rank of Matrix"
   ]
  },
  {
   "cell_type": "code",
   "execution_count": 28,
   "id": "89d81fb2",
   "metadata": {},
   "outputs": [
    {
     "name": "stdout",
     "output_type": "stream",
     "text": [
      "Rank of matrix: 3\n"
     ]
    }
   ],
   "source": [
    "n = np.array([[6, 1, 1],\n",
    "              [4, -2, 5],\n",
    "              [2, 8, 7]])\n",
    "print(\"Rank of matrix:\",np.linalg.matrix_rank(n))"
   ]
  },
  {
   "cell_type": "markdown",
   "id": "29a4b5d3",
   "metadata": {},
   "source": [
    "### Eigen Function"
   ]
  },
  {
   "cell_type": "markdown",
   "id": "57c51695",
   "metadata": {},
   "source": [
    "**numpy.linalg.eigh(a, UPLO=’L’)**\n",
    "\n",
    "This function is used to return the eigenvalues and eigenvectors of a complex Hermitian (conjugate symmetric) or a real symmetric matrix.Returns two objects, a 1-D array containing the eigenvalues of a, and a 2-D square array or matrix (depending on the input type) of the corresponding eigenvectors (in columns)."
   ]
  },
  {
   "cell_type": "code",
   "execution_count": 31,
   "id": "baf4cc23",
   "metadata": {},
   "outputs": [
    {
     "name": "stdout",
     "output_type": "stream",
     "text": [
      "[[ 1.+0.j -0.-2.j]\n",
      " [ 0.+2.j  5.+0.j]]\n",
      "Eigen value is:   [0.17157288 5.82842712]\n",
      "Eigen value is:   [[-0.92387953-0.j         -0.38268343+0.j        ]\n",
      " [ 0.        +0.38268343j  0.        -0.92387953j]]\n"
     ]
    }
   ],
   "source": [
    "n1 = np.array([[1, -2j], [2j, 5]])\n",
    "print(n1)\n",
    "c,d=np.linalg.eigh(n1)\n",
    "print(\"Eigen value is:  \",c)\n",
    "print(\"Eigen value is:  \",d)"
   ]
  },
  {
   "cell_type": "markdown",
   "id": "4ca7516d",
   "metadata": {},
   "source": [
    "**numpy.linalg.eig(a) :**\n",
    "his function is used to compute the eigenvalues and right eigenvectors of a square array."
   ]
  },
  {
   "cell_type": "code",
   "execution_count": 32,
   "id": "933fd789",
   "metadata": {},
   "outputs": [
    {
     "name": "stdout",
     "output_type": "stream",
     "text": [
      "Eigen value is:   [1. 2. 3.]\n",
      "Eigen value is:   [[1. 0. 0.]\n",
      " [0. 1. 0.]\n",
      " [0. 0. 1.]]\n"
     ]
    }
   ],
   "source": [
    "n2 = np.diag((1, 2, 3))\n",
    "c,d=np.linalg.eig(n2)\n",
    "print(\"Eigen value is:  \",c)\n",
    "print(\"Eigen value is:  \",d)"
   ]
  },
  {
   "cell_type": "code",
   "execution_count": null,
   "id": "bdc99be4",
   "metadata": {},
   "outputs": [],
   "source": []
  }
 ],
 "metadata": {
  "kernelspec": {
   "display_name": "Python 3 (ipykernel)",
   "language": "python",
   "name": "python3"
  },
  "language_info": {
   "codemirror_mode": {
    "name": "ipython",
    "version": 3
   },
   "file_extension": ".py",
   "mimetype": "text/x-python",
   "name": "python",
   "nbconvert_exporter": "python",
   "pygments_lexer": "ipython3",
   "version": "3.9.12"
  }
 },
 "nbformat": 4,
 "nbformat_minor": 5
}
